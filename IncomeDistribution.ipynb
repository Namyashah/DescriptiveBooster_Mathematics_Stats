{
 "cells": [
  {
   "cell_type": "code",
   "execution_count": 1,
   "id": "4c9a0b98",
   "metadata": {},
   "outputs": [],
   "source": [
    "import pandas as pd\n",
    "import numpy as np"
   ]
  },
  {
   "cell_type": "markdown",
   "id": "eeab2094",
   "metadata": {},
   "source": [
    "## Analyzing Income Distribution and Household Demographics:"
   ]
  },
  {
   "cell_type": "markdown",
   "id": "137011df",
   "metadata": {},
   "source": [
    "### Part - B(Practical)"
   ]
  },
  {
   "cell_type": "code",
   "execution_count": 4,
   "id": "d94525ce",
   "metadata": {},
   "outputs": [
    {
     "data": {
      "text/html": [
       "<div>\n",
       "<style scoped>\n",
       "    .dataframe tbody tr th:only-of-type {\n",
       "        vertical-align: middle;\n",
       "    }\n",
       "\n",
       "    .dataframe tbody tr th {\n",
       "        vertical-align: top;\n",
       "    }\n",
       "\n",
       "    .dataframe thead th {\n",
       "        text-align: right;\n",
       "    }\n",
       "</style>\n",
       "<table border=\"1\" class=\"dataframe\">\n",
       "  <thead>\n",
       "    <tr style=\"text-align: right;\">\n",
       "      <th></th>\n",
       "      <th>Household_ID</th>\n",
       "      <th>Age_of_Household_Head</th>\n",
       "      <th>Household_Income</th>\n",
       "      <th>Education_Level</th>\n",
       "      <th>Family_Size</th>\n",
       "      <th>Owns_House</th>\n",
       "      <th>Urban_Rural</th>\n",
       "    </tr>\n",
       "  </thead>\n",
       "  <tbody>\n",
       "    <tr>\n",
       "      <th>0</th>\n",
       "      <td>HH_0001</td>\n",
       "      <td>63</td>\n",
       "      <td>88530</td>\n",
       "      <td>Graduate</td>\n",
       "      <td>1</td>\n",
       "      <td>Yes</td>\n",
       "      <td>Urban</td>\n",
       "    </tr>\n",
       "    <tr>\n",
       "      <th>1</th>\n",
       "      <td>HH_0002</td>\n",
       "      <td>53</td>\n",
       "      <td>108557</td>\n",
       "      <td>Secondary</td>\n",
       "      <td>5</td>\n",
       "      <td>Yes</td>\n",
       "      <td>Rural</td>\n",
       "    </tr>\n",
       "    <tr>\n",
       "      <th>2</th>\n",
       "      <td>HH_0003</td>\n",
       "      <td>39</td>\n",
       "      <td>76087</td>\n",
       "      <td>Graduate</td>\n",
       "      <td>1</td>\n",
       "      <td>Yes</td>\n",
       "      <td>Urban</td>\n",
       "    </tr>\n",
       "    <tr>\n",
       "      <th>3</th>\n",
       "      <td>HH_0004</td>\n",
       "      <td>67</td>\n",
       "      <td>83840</td>\n",
       "      <td>Secondary</td>\n",
       "      <td>2</td>\n",
       "      <td>Yes</td>\n",
       "      <td>Urban</td>\n",
       "    </tr>\n",
       "    <tr>\n",
       "      <th>4</th>\n",
       "      <td>HH_0005</td>\n",
       "      <td>32</td>\n",
       "      <td>133451</td>\n",
       "      <td>Graduate</td>\n",
       "      <td>1</td>\n",
       "      <td>Yes</td>\n",
       "      <td>Urban</td>\n",
       "    </tr>\n",
       "    <tr>\n",
       "      <th>...</th>\n",
       "      <td>...</td>\n",
       "      <td>...</td>\n",
       "      <td>...</td>\n",
       "      <td>...</td>\n",
       "      <td>...</td>\n",
       "      <td>...</td>\n",
       "      <td>...</td>\n",
       "    </tr>\n",
       "    <tr>\n",
       "      <th>195</th>\n",
       "      <td>HH_0196</td>\n",
       "      <td>61</td>\n",
       "      <td>31896</td>\n",
       "      <td>Post-Grad</td>\n",
       "      <td>3</td>\n",
       "      <td>Yes</td>\n",
       "      <td>Urban</td>\n",
       "    </tr>\n",
       "    <tr>\n",
       "      <th>196</th>\n",
       "      <td>HH_0197</td>\n",
       "      <td>57</td>\n",
       "      <td>145798</td>\n",
       "      <td>Secondary</td>\n",
       "      <td>7</td>\n",
       "      <td>Yes</td>\n",
       "      <td>Urban</td>\n",
       "    </tr>\n",
       "    <tr>\n",
       "      <th>197</th>\n",
       "      <td>HH_0198</td>\n",
       "      <td>66</td>\n",
       "      <td>20237</td>\n",
       "      <td>Graduate</td>\n",
       "      <td>4</td>\n",
       "      <td>Yes</td>\n",
       "      <td>Urban</td>\n",
       "    </tr>\n",
       "    <tr>\n",
       "      <th>198</th>\n",
       "      <td>HH_0199</td>\n",
       "      <td>68</td>\n",
       "      <td>35056</td>\n",
       "      <td>Secondary</td>\n",
       "      <td>5</td>\n",
       "      <td>Yes</td>\n",
       "      <td>Urban</td>\n",
       "    </tr>\n",
       "    <tr>\n",
       "      <th>199</th>\n",
       "      <td>HH_0200</td>\n",
       "      <td>48</td>\n",
       "      <td>129548</td>\n",
       "      <td>Graduate</td>\n",
       "      <td>2</td>\n",
       "      <td>Yes</td>\n",
       "      <td>Urban</td>\n",
       "    </tr>\n",
       "  </tbody>\n",
       "</table>\n",
       "<p>200 rows × 7 columns</p>\n",
       "</div>"
      ],
      "text/plain": [
       "    Household_ID  Age_of_Household_Head  Household_Income Education_Level  \\\n",
       "0        HH_0001                     63             88530        Graduate   \n",
       "1        HH_0002                     53            108557       Secondary   \n",
       "2        HH_0003                     39             76087        Graduate   \n",
       "3        HH_0004                     67             83840       Secondary   \n",
       "4        HH_0005                     32            133451        Graduate   \n",
       "..           ...                    ...               ...             ...   \n",
       "195      HH_0196                     61             31896       Post-Grad   \n",
       "196      HH_0197                     57            145798       Secondary   \n",
       "197      HH_0198                     66             20237        Graduate   \n",
       "198      HH_0199                     68             35056       Secondary   \n",
       "199      HH_0200                     48            129548        Graduate   \n",
       "\n",
       "     Family_Size Owns_House Urban_Rural  \n",
       "0              1        Yes       Urban  \n",
       "1              5        Yes       Rural  \n",
       "2              1        Yes       Urban  \n",
       "3              2        Yes       Urban  \n",
       "4              1        Yes       Urban  \n",
       "..           ...        ...         ...  \n",
       "195            3        Yes       Urban  \n",
       "196            7        Yes       Urban  \n",
       "197            4        Yes       Urban  \n",
       "198            5        Yes       Urban  \n",
       "199            2        Yes       Urban  \n",
       "\n",
       "[200 rows x 7 columns]"
      ]
     },
     "execution_count": 4,
     "metadata": {},
     "output_type": "execute_result"
    }
   ],
   "source": [
    "dataset = pd.read_csv(\"household_dataset_200_rows.csv\")\n",
    "dataset"
   ]
  },
  {
   "cell_type": "markdown",
   "id": "f3997ebc",
   "metadata": {},
   "source": [
    "### Q 1 Types Of Data:\n",
    "#### Identify which columns are categorical and which are numerical."
   ]
  },
  {
   "cell_type": "code",
   "execution_count": 16,
   "id": "c54e71d6",
   "metadata": {},
   "outputs": [
    {
     "name": "stdout",
     "output_type": "stream",
     "text": [
      "Household_ID             object\n",
      "Age_of_Household_Head     int64\n",
      "Household_Income          int64\n",
      "Education_Level          object\n",
      "Family_Size               int64\n",
      "Owns_House               object\n",
      "Urban_Rural              object\n",
      "dtype: object\n",
      "============================================================================\n",
      "Categorical Data : ['Household_ID', 'Education_Level', 'Owns_House', 'Urban_Rural']\n",
      "============================================================================\n",
      "Numerical Data : ['Age_of_Household_Head', 'Household_Income', 'Family_Size']\n"
     ]
    }
   ],
   "source": [
    "print(dataset.dtypes)\n",
    "print(\"============================================================================\")\n",
    "categorical = dataset.select_dtypes(include=['object', 'category']).columns.tolist()\n",
    "print(f\"Categorical Data : {categorical}\")\n",
    "print(\"============================================================================\")\n",
    "numerical = dataset.select_dtypes(include=['int64']).columns.tolist()\n",
    "print(f\"Numerical Data : {numerical}\")"
   ]
  },
  {
   "cell_type": "markdown",
   "id": "7f8743df",
   "metadata": {},
   "source": [
    "Conclusion : Hence All The Columns Are Classified as which Are Categorical And Which Are Numerical."
   ]
  },
  {
   "cell_type": "markdown",
   "id": "906bc64a",
   "metadata": {},
   "source": [
    "### Q 2 Central Tendency:\n",
    "#### Calculate Mean, Median, and Mode of Household Income and Age.\n",
    "#### Interpret the central tendency and comment on income distribution."
   ]
  },
  {
   "cell_type": "code",
   "execution_count": 48,
   "id": "c8e8ea6b",
   "metadata": {},
   "outputs": [
    {
     "name": "stdout",
     "output_type": "stream",
     "text": [
      "Mean : 86959.77\n",
      "Median : 89293.5\n",
      "Value : 88530\n",
      "Appears: 1 times\n"
     ]
    }
   ],
   "source": [
    "#Household Income\n",
    "#Mean\n",
    "sum_values_of_household_income = np.sum(dataset[\"Household_Income\"])\n",
    "mean = sum_values_of_household_income/len(dataset)\n",
    "print(f\"Mean : {mean}\")\n",
    "\n",
    "#Median\n",
    "sorted_dataset = np.sort(dataset[\"Household_Income\"])\n",
    "first_part = len(sorted_dataset)//2\n",
    "first_part_value = sorted_dataset[first_part]\n",
    "\n",
    "second_part = first_part - 1\n",
    "second_part_value = sorted_dataset[second_part]\n",
    "median = (first_part_value + second_part_value)/2\n",
    "print(f\"Median : {median}\")\n",
    "\n",
    "#Mode\n",
    "frequency = {}\n",
    "for value in dataset[\"Household_Income\"]:\n",
    "    if value in frequency:\n",
    "        frequency[value] += 1\n",
    "    else:\n",
    "        frequency[value] = 1\n",
    "\n",
    "max_count = max(frequency.values())\n",
    "modes = [key for key, count in frequency.items() if count == max_count]\n",
    "\n",
    "print(f\"Value : {modes[0]}\")\n",
    "print(f\"Appears: {max_count} times\")\n"
   ]
  },
  {
   "cell_type": "code",
   "execution_count": null,
   "id": "97a8f8fd",
   "metadata": {},
   "outputs": [
    {
     "name": "stdout",
     "output_type": "stream",
     "text": [
      "Mean : 49.26\n",
      "Median : 50.0\n",
      "Value : 68\n",
      "Appears: 10 times\n"
     ]
    }
   ],
   "source": [
    "#Age\n",
    "#Mean\n",
    "sum_values_of_household_income = np.sum(dataset[\"Age_of_Household_Head\"])\n",
    "mean = sum_values_of_household_income/len(dataset)\n",
    "print(f\"Mean : {mean}\")\n",
    "\n",
    "#Median\n",
    "sorted_dataset = np.sort(dataset[\"Age_of_Household_Head\"])\n",
    "first_part = len(sorted_dataset)//2\n",
    "first_part_value = sorted_dataset[first_part]\n",
    "\n",
    "second_part = first_part - 1\n",
    "second_part_value = sorted_dataset[second_part]\n",
    "median = (first_part_value + second_part_value)/2\n",
    "print(f\"Median : {median}\")\n",
    "\n",
    "#Mode\n",
    "frequency = {}\n",
    "for value in dataset[\"Age_of_Household_Head\"]:\n",
    "    if value in frequency:\n",
    "        frequency[value] += 1\n",
    "    else:\n",
    "        frequency[value] = 1\n",
    "\n",
    "max_count = max(frequency.values())\n",
    "\n",
    "modes = [key for key, count in frequency.items() if count == max_count]\n",
    "print(f\"Value : {modes[0]}\")\n",
    "print(f\"Appears: {max_count} times\")"
   ]
  },
  {
   "cell_type": "markdown",
   "id": "cf66b942",
   "metadata": {},
   "source": [
    "### Central Tendency : HouseHold\n",
    "Mean : 86959.77\n",
    "\n",
    "Median : 89293.5\n",
    "\n",
    "Mode : 88530\n",
    "\n",
    "### Central Tendency : Age\n",
    "Mean : 49.26\n",
    "\n",
    "Median : 50.0\n",
    "\n",
    "Mode : 68"
   ]
  },
  {
   "cell_type": "markdown",
   "id": "cc63311f",
   "metadata": {},
   "source": [
    "### Interpretation\n",
    "1)Since We Can See That In Household Income Mean is Greater Than Median Which Mean The Data Is Positively Skewed (Right Skewed Distribution).\n",
    "Which means Only Few Household Earns More Income Than All Others. \n",
    "\n",
    "2)And We can See that Age Column Is perfectly Symmetric (Normal Distribution)."
   ]
  },
  {
   "cell_type": "markdown",
   "id": "4e12181f",
   "metadata": {},
   "source": [
    "### Comment on Income Distribution\n",
    "The Income Distribution Is Not Symmetric. It Is Positively Skewed ."
   ]
  },
  {
   "cell_type": "markdown",
   "id": "45e77e5e",
   "metadata": {},
   "source": [
    "Hence,We Can say That Above Given All Mean,Median,Mode Are Calculated for Both Household Income And Age."
   ]
  },
  {
   "cell_type": "markdown",
   "id": "5b2282ef",
   "metadata": {},
   "source": [
    "### Q 3 Measures of Dispersion:\n",
    "#### Calculate Range, Variance, and Standard Deviation of Household Income.\n",
    "#### Find IQR (Interquartile Range) and comment on income spread."
   ]
  },
  {
   "cell_type": "code",
   "execution_count": 68,
   "id": "5e11885d",
   "metadata": {},
   "outputs": [
    {
     "name": "stdout",
     "output_type": "stream",
     "text": [
      "Range : 132140\n",
      "Sample Variance : 1673840946.2885435\n",
      "Population Variance : 1665471741.5571008\n",
      "Standard Deviation : 40810.19163832854\n"
     ]
    }
   ],
   "source": [
    "#Range\n",
    "range = max(dataset[\"Household_Income\"]) - min(dataset[\"Household_Income\"])\n",
    "print(f\"Range : {range}\")\n",
    "\n",
    "#Variance\n",
    "deviations = 0\n",
    "for i in dataset[\"Household_Income\"]:\n",
    "    deviations += (i - mean)**2\n",
    "\n",
    "sample_variance = deviations/(len(dataset)-1)\n",
    "population_variance = deviations/len(dataset)\n",
    "print(f\"Sample Variance : {sample_variance}\")\n",
    "print(f\"Population Variance : {population_variance}\")\n",
    "\n",
    "#Standard Deviation\n",
    "std = np.sqrt(population_variance)\n",
    "print(f\"Standard Deviation : {std}\")"
   ]
  },
  {
   "cell_type": "code",
   "execution_count": null,
   "id": "00cc1ebf",
   "metadata": {},
   "outputs": [],
   "source": [
    "#InterQuarter Range:\n"
   ]
  },
  {
   "cell_type": "markdown",
   "id": "7b286cac",
   "metadata": {},
   "source": [
    "# Q 4 "
   ]
  },
  {
   "cell_type": "markdown",
   "id": "0db3d8e6",
   "metadata": {},
   "source": []
  }
 ],
 "metadata": {
  "kernelspec": {
   "display_name": "Python 3",
   "language": "python",
   "name": "python3"
  },
  "language_info": {
   "codemirror_mode": {
    "name": "ipython",
    "version": 3
   },
   "file_extension": ".py",
   "mimetype": "text/x-python",
   "name": "python",
   "nbconvert_exporter": "python",
   "pygments_lexer": "ipython3",
   "version": "3.13.1"
  }
 },
 "nbformat": 4,
 "nbformat_minor": 5
}
